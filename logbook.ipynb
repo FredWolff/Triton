{
 "cells": [
  {
   "attachments": {},
   "cell_type": "markdown",
   "metadata": {},
   "source": [
    "### Triton sweepfunctions at t11"
   ]
  },
  {
   "cell_type": "code",
   "execution_count": 6,
   "metadata": {},
   "outputs": [],
   "source": [
    "from qcodes.dataset import Measurement\n",
    "from qcodes.parameters import Parameter\n",
    "from time import sleep\n",
    "\n",
    "from qcodes.instrument_drivers.oxford.triton import OxfordTriton\n",
    "t11 = OxfordTriton(\"t11\", address=\"10.209.64.175\", port=53561)"
   ]
  },
  {
   "attachments": {},
   "cell_type": "markdown",
   "metadata": {},
   "source": [
    "#### Parameter check"
   ]
  },
  {
   "cell_type": "code",
   "execution_count": null,
   "metadata": {},
   "outputs": [],
   "source": [
    "#temperature\n",
    "for i in range(1, 17):\n",
    "    ch = 'T%d' % i\n",
    "    eval(f\"t11.{ch}()\")"
   ]
  },
  {
   "cell_type": "code",
   "execution_count": null,
   "metadata": {},
   "outputs": [],
   "source": [
    "#get thermometer state\n",
    "for i in range(1, 17):\n",
    "    ch = 'T%d' % i\n",
    "    eval(f\"t11.{ch}_state()\")"
   ]
  },
  {
   "cell_type": "code",
   "execution_count": null,
   "metadata": {},
   "outputs": [],
   "source": [
    "#set thermometer state\n",
    "for i in range(1, 17):\n",
    "    ch = 'T%d' % i\n",
    "    eval(f\"t11.{ch}_state('off')\")"
   ]
  },
  {
   "cell_type": "code",
   "execution_count": null,
   "metadata": {},
   "outputs": [],
   "source": [
    "#set thermometer state\n",
    "for i in range(1, 17):\n",
    "    ch = 'T%d' % i\n",
    "    eval(f\"t11.{ch}_state('on')\")"
   ]
  },
  {
   "cell_type": "code",
   "execution_count": null,
   "metadata": {},
   "outputs": [],
   "source": [
    "#get pump speed\n",
    "for pump in t11.pumps:\n",
    "    eval(f\"t11.{pump.lower()}_speed()\")"
   ]
  },
  {
   "cell_type": "code",
   "execution_count": 7,
   "metadata": {},
   "outputs": [
    {
     "name": "stdout",
     "output_type": "stream",
     "text": [
      "a\n",
      "b\n"
     ]
    }
   ],
   "source": [
    "#get pump state\n",
    "for pump in t11.pumps:\n",
    "    eval(f\"t11.{pump.lower()}_state()\")"
   ]
  },
  {
   "cell_type": "code",
   "execution_count": null,
   "metadata": {},
   "outputs": [],
   "source": [
    "#set pump state\n",
    "for pump in t11.pumps:\n",
    "    eval(f\"t11.{pump.lower()}_state('off')\")"
   ]
  },
  {
   "cell_type": "code",
   "execution_count": null,
   "metadata": {},
   "outputs": [],
   "source": [
    "#set pump state\n",
    "for pump in t11.pumps:\n",
    "    eval(f\"t11.{pump.lower()}_state('on')\")"
   ]
  },
  {
   "cell_type": "code",
   "execution_count": null,
   "metadata": {},
   "outputs": [],
   "source": [
    "# get heater range\n",
    "t11.pid_range()"
   ]
  },
  {
   "cell_type": "code",
   "execution_count": null,
   "metadata": {},
   "outputs": [],
   "source": [
    "# set heater range\n",
    "t11.pid_range(t11.pid_range())"
   ]
  },
  {
   "cell_type": "code",
   "execution_count": null,
   "metadata": {},
   "outputs": [],
   "source": [
    "# temperature control\n",
    "t11.pid_p(), t11.pid_i(), t11.pid_d()"
   ]
  },
  {
   "cell_type": "code",
   "execution_count": null,
   "metadata": {},
   "outputs": [],
   "source": [
    "# temperature control\n",
    "t11.pid_p(10.), t11.pid_i(20.), t11.pid_d(0.)\n",
    "t11.pid_p(), t11.pid_i(), t11.pid_d()"
   ]
  },
  {
   "cell_type": "code",
   "execution_count": null,
   "metadata": {},
   "outputs": [],
   "source": [
    "# temperature control\n",
    "t11.pid_setpoint()"
   ]
  },
  {
   "cell_type": "code",
   "execution_count": null,
   "metadata": {},
   "outputs": [],
   "source": [
    "# temperature control\n",
    "t11.pid_setpoint(t11.pid_setpoint())"
   ]
  },
  {
   "attachments": {},
   "cell_type": "markdown",
   "metadata": {},
   "source": [
    "#### T-sweep functions test"
   ]
  },
  {
   "cell_type": "code",
   "execution_count": null,
   "metadata": {},
   "outputs": [],
   "source": [
    "from sweepfunction import Temperature, live_configurator, _toggle_turbo, _get_best_heater_range, _set_heater_range, _set_temp_setpoint, magnet_check, _set_pid_controller, _set_active_channels, _init_sweep_state, _close"
   ]
  },
  {
   "cell_type": "code",
   "execution_count": null,
   "metadata": {},
   "outputs": [],
   "source": [
    "# Temperature channel\n",
    "ch_t_mc = 8\n",
    "t_mc = Temperature('T_mc', t11, ch_t_mc)"
   ]
  },
  {
   "cell_type": "code",
   "execution_count": null,
   "metadata": {},
   "outputs": [],
   "source": [
    "# Basic functionality\n",
    "_close(t_mc(), setpoint=0.1, tolerance=0.0001)"
   ]
  },
  {
   "cell_type": "code",
   "execution_count": null,
   "metadata": {},
   "outputs": [],
   "source": [
    "# Basic functionality\n",
    "ch_t_magnet = 13\n",
    "magnet_check(t11, ch_t_magnet)"
   ]
  },
  {
   "cell_type": "code",
   "execution_count": null,
   "metadata": {},
   "outputs": [],
   "source": [
    "# Heater control\n",
    "for temp in t11._heater_range_temp:\n",
    "    t = temp - 0.001\n",
    "    print(f\"T = {t}\")\n",
    "    _get_best_heater_range(t11._heater_range_temp, t11._heater_range_curr, t)"
   ]
  },
  {
   "cell_type": "code",
   "execution_count": null,
   "metadata": {},
   "outputs": [],
   "source": [
    "# Heater control\n",
    "_set_heater_range(t11, ___, t11.pid_range())"
   ]
  },
  {
   "cell_type": "code",
   "execution_count": null,
   "metadata": {},
   "outputs": [],
   "source": [
    "# PID\n",
    "_set_pid_controller(t11, pid_values=(10., 20., 0.))"
   ]
  },
  {
   "cell_type": "code",
   "execution_count": null,
   "metadata": {},
   "outputs": [],
   "source": [
    "# Temperature channels\n",
    "_set_active_channels(t11, ch_t_mc, ch_t_magnet)"
   ]
  },
  {
   "cell_type": "code",
   "execution_count": null,
   "metadata": {},
   "outputs": [],
   "source": [
    "# Turbo control\n",
    "meas = Measurement()\n",
    "meas.write_period = 5.\n",
    "dummy_time = Parameter('dummy_time', label='Dummy Time')\n",
    "meas.register_parameter(dummy_time)\n",
    "meas.register_parameter(t_mc, setpoints=(dummy_time, ))\n",
    "meas.register_parameter(t11.turb1_speed, setpoints=(dummy_time, ))\n",
    "\n",
    "best_state = 'off'\n",
    "turbo_state = t11.turb1_state()\n",
    "future_setpoint = t_mc() + 0.01\n",
    "critical_speed = 100\n",
    "\n",
    "with meas.run() as datasaver:\n",
    "\n",
    "    t11.pid_setpoint(future_setpoint)\n",
    "    _toggle_turbo(t11, best_state, turbo_state, future_setpoint, t_mc, critical_speed)\n",
    "\n",
    "    current_time = 0\n",
    "    while not _close(t_mc(), future_setpoint):\n",
    "        \n",
    "        datasaver.add_result(\n",
    "            (dummy_time, current_time),\n",
    "            (t_mc, t_mc()),\n",
    "            (t11.turb1_speed, t11.turb1_speed())\n",
    "        )\n",
    "        sleep(1)\n",
    "        current_time += 1"
   ]
  },
  {
   "cell_type": "code",
   "execution_count": null,
   "metadata": {},
   "outputs": [],
   "source": [
    "# Turbo control\n",
    "meas = Measurement()\n",
    "meas.write_period = 5.\n",
    "dummy_time = Parameter('dummy_time', label='Dummy Time')\n",
    "meas.register_parameter(dummy_time)\n",
    "meas.register_parameter(t_mc, setpoints=(dummy_time, ))\n",
    "meas.register_parameter(t11.turb1_speed, setpoints=(dummy_time, ))\n",
    "\n",
    "best_state = 'on'\n",
    "turbo_state = t11.turb1_state()\n",
    "future_setpoint = t_mc() - 0.01\n",
    "critical_speed = 100\n",
    "\n",
    "with meas.run() as datasaver:\n",
    "\n",
    "    t11.pid_setpoint(future_setpoint)\n",
    "    _toggle_turbo(t11, best_state, turbo_state, future_setpoint, t_mc, critical_speed)\n",
    "\n",
    "    current_time = 0\n",
    "    while not _close(t_mc(), future_setpoint):\n",
    "        \n",
    "        datasaver.add_result(\n",
    "            (dummy_time, current_time),\n",
    "            (t_mc, t_mc()),\n",
    "            (t11.turb1_speed, t11.turb1_speed())\n",
    "        )\n",
    "        sleep(1)\n",
    "        current_time += 1"
   ]
  },
  {
   "cell_type": "code",
   "execution_count": null,
   "metadata": {},
   "outputs": [],
   "source": [
    "# cryostat control\n",
    "t11.pid_setpoint(0.29)"
   ]
  },
  {
   "cell_type": "code",
   "execution_count": null,
   "metadata": {},
   "outputs": [],
   "source": [
    "# cryostat control\n",
    "print(t11.turb1_state(), t11.pid_range())\n",
    "future_setpoint = 0.31\n",
    "live_configurator(t11, t_mc, future_setpoint, t11.pid_range(), t11.turb1_state())\n",
    "print(t11.turb1_state(), t11.pid_range())"
   ]
  },
  {
   "cell_type": "code",
   "execution_count": null,
   "metadata": {},
   "outputs": [],
   "source": [
    "# cryostat control\n",
    "t11.pid_setpoint(0.79)"
   ]
  },
  {
   "cell_type": "code",
   "execution_count": null,
   "metadata": {},
   "outputs": [],
   "source": [
    "# cryostat control\n",
    "print(t11.turb1_state(), t11.pid_range())\n",
    "future_setpoint = 0.81\n",
    "live_configurator(t11, t_mc, future_setpoint, t11.pid_range(), t11.turb1_state())\n",
    "print(t11.turb1_state(), t11.pid_range())"
   ]
  },
  {
   "cell_type": "code",
   "execution_count": null,
   "metadata": {},
   "outputs": [],
   "source": [
    "t11.pid_setpoint(1)"
   ]
  },
  {
   "cell_type": "code",
   "execution_count": null,
   "metadata": {},
   "outputs": [],
   "source": [
    "# Temperature control\n",
    "future_setpoint = 0.09\n",
    "_set_temp_setpoint(t11, t_mc, future_setpoint, magnet_active=True, t_magnet_ch=ch_t_magnet, turbo_state=t11.turb1_state(), heater_range=t11.pid_range())"
   ]
  },
  {
   "cell_type": "code",
   "execution_count": null,
   "metadata": {},
   "outputs": [],
   "source": [
    "# cryostate control\n",
    "_init_sweep_state(t11, ch_t_mc, ch_t_magnet, True, pid=(20., 10., 0.))"
   ]
  },
  {
   "attachments": {},
   "cell_type": "markdown",
   "metadata": {},
   "source": [
    "#### Temperature sweeps"
   ]
  },
  {
   "cell_type": "code",
   "execution_count": null,
   "metadata": {},
   "outputs": [],
   "source": [
    "from sweepfunction import T1dMeasurement, T2dMeasurement"
   ]
  },
  {
   "cell_type": "code",
   "execution_count": null,
   "metadata": {},
   "outputs": [],
   "source": [
    "T1dMeasurement(\n",
    "\n",
    ")"
   ]
  },
  {
   "cell_type": "code",
   "execution_count": null,
   "metadata": {},
   "outputs": [],
   "source": [
    "T2dMeasurement(\n",
    "    \n",
    ")"
   ]
  }
 ],
 "metadata": {
  "kernelspec": {
   "display_name": "AppStat2",
   "language": "python",
   "name": "python3"
  },
  "language_info": {
   "codemirror_mode": {
    "name": "ipython",
    "version": 3
   },
   "file_extension": ".py",
   "mimetype": "text/x-python",
   "name": "python",
   "nbconvert_exporter": "python",
   "pygments_lexer": "ipython3",
   "version": "3.10.9"
  },
  "orig_nbformat": 4
 },
 "nbformat": 4,
 "nbformat_minor": 2
}
