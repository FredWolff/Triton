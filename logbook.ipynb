{
 "cells": [
  {
   "attachments": {},
   "cell_type": "markdown",
   "metadata": {},
   "source": [
    "### Triton sweepfunctions at t11"
   ]
  },
  {
   "cell_type": "code",
   "execution_count": 1,
   "metadata": {},
   "outputs": [
    {
     "name": "stdout",
     "output_type": "stream",
     "text": [
      "Connected to: OXFORD INSTRUMENTS Triton (serial:N/A, firmware:2.449) in 0.02s\n"
     ]
    }
   ],
   "source": [
    "from qcodes.dataset import Measurement, initialise_or_create_database_at\n",
    "from qcodes.dataset.experiment_container import load_or_create_experiment, Experiment\n",
    "from qcodes.dataset.plotting import plot_by_id\n",
    "from qcodes.parameters import Parameter\n",
    "from time import sleep\n",
    "from qcodes import Station\n",
    "import qcodes as qc\n",
    "import numpy as np\n",
    "from qcodes.dataset.data_set import load_by_id\n",
    "\n",
    "import sys\n",
    "sys.path.append('C://Users//Triton11acq//Documents//TritonDriver//TritonDriver//qcodes//instrument_drivers//oxford')\n",
    "from triton import OxfordTriton\n",
    "t11 = OxfordTriton(\"t11\", address=\"10.209.64.175\", port=33576)"
   ]
  },
  {
   "cell_type": "code",
   "execution_count": 2,
   "metadata": {},
   "outputs": [
    {
     "name": "stderr",
     "output_type": "stream",
     "text": [
      "c:\\Users\\Triton11acq\\miniconda3\\envs\\qcodes39\\lib\\site-packages\\qcodes\\instrument\\instrument_base.py:143: QCoDeSDeprecationWarning: Parameter ch1_databuffer on instrument lockin_2 does not correctly pass kwargs to its baseclass. A Parameter class must take `**kwargs` and forward them to its baseclass.\n",
      "  warnings.warn(\n",
      "c:\\Users\\Triton11acq\\miniconda3\\envs\\qcodes39\\lib\\site-packages\\qcodes\\instrument\\instrument_base.py:143: QCoDeSDeprecationWarning: Parameter ch2_databuffer on instrument lockin_2 does not correctly pass kwargs to its baseclass. A Parameter class must take `**kwargs` and forward them to its baseclass.\n",
      "  warnings.warn(\n"
     ]
    },
    {
     "name": "stdout",
     "output_type": "stream",
     "text": [
      "Connected to: Stanford_Research_Systems SR830 (serial:s/n49067, firmware:ver1.07) in 0.18s\n"
     ]
    }
   ],
   "source": [
    "data_path = 'C:\\\\Users\\\\Triton11acq\\\\Documents\\\\TritonDriver\\\\Triton'\n",
    "qc.config['core']['db_location'] = data_path\n",
    "qc.config['user']['mainfolder'] = data_path \n",
    "initialise_or_create_database_at(data_path + '\\\\SweepfunctionsTest.db')\n",
    "exp = load_or_create_experiment(\"Sweepfunctions\", sample_name=\"0\")\n",
    "\n",
    "scfg = Station(config_file='A:\\\\Networks Experiments\\\\Code\\\\station.yaml', use_monitor=True)\n",
    "lockin_2 = scfg.load_instrument('lockin_2')\n",
    "keith = scfg.load_instrument('keith')"
   ]
  },
  {
   "attachments": {},
   "cell_type": "markdown",
   "metadata": {},
   "source": [
    "#### Parameter check"
   ]
  },
  {
   "cell_type": "code",
   "execution_count": 5,
   "metadata": {},
   "outputs": [
    {
     "name": "stdout",
     "output_type": "stream",
     "text": [
      "T1: 3.4372\n",
      "T2: 4.07234\n",
      "T3: 148.057\n",
      "T4: 0.0870046\n",
      "T5: 322.471\n",
      "T6: 43.1037\n",
      "T7: 55.2004\n",
      "T8: 0.0152884\n",
      "T9: 0.0499765\n",
      "T10: 291.456\n",
      "T11: 287.167\n",
      "T12: 0.0\n",
      "T13: 4.19819\n",
      "T14: 0.0\n",
      "T15: 0.0\n",
      "T16: 0.0\n"
     ]
    }
   ],
   "source": [
    "#temperature\n",
    "for i in range(1, 17):\n",
    "    ch = 'T%d' % i\n",
    "    print(ch + ': ' + str(eval(f\"t11.{ch}()\")))"
   ]
  },
  {
   "cell_type": "code",
   "execution_count": 6,
   "metadata": {},
   "outputs": [
    {
     "name": "stdout",
     "output_type": "stream",
     "text": [
      "T1 state: on\n",
      "T2 state: on\n",
      "T3 state: on\n",
      "T4 state: on\n",
      "T5 state: on\n",
      "T6 state: on\n",
      "T7 state: on\n",
      "T8 state: on\n",
      "T9 state: off\n",
      "T10 state: off\n",
      "T11 state: off\n",
      "T12 state: off\n",
      "T13 state: on\n",
      "T14 state: off\n",
      "T15 state: off\n",
      "T16 state: off\n"
     ]
    }
   ],
   "source": [
    "#get thermometer state\n",
    "for i in range(1, 17):\n",
    "    ch = 'T%d' % i\n",
    "    print(ch + ' state: ' + eval(f\"t11.{ch}_state()\"))"
   ]
  },
  {
   "cell_type": "code",
   "execution_count": 7,
   "metadata": {},
   "outputs": [
    {
     "data": {
      "text/plain": [
       "'off'"
      ]
     },
     "execution_count": 7,
     "metadata": {},
     "output_type": "execute_result"
    }
   ],
   "source": [
    "t11.T13_state('off')\n",
    "t11.T13_state()"
   ]
  },
  {
   "cell_type": "code",
   "execution_count": 8,
   "metadata": {},
   "outputs": [
    {
     "data": {
      "text/plain": [
       "4.19819"
      ]
     },
     "execution_count": 8,
     "metadata": {},
     "output_type": "execute_result"
    }
   ],
   "source": [
    "t11.T13()"
   ]
  },
  {
   "cell_type": "code",
   "execution_count": 9,
   "metadata": {},
   "outputs": [
    {
     "data": {
      "text/plain": [
       "'on'"
      ]
     },
     "execution_count": 9,
     "metadata": {},
     "output_type": "execute_result"
    }
   ],
   "source": [
    "t11.T13_state('on')\n",
    "t11.T13_state()"
   ]
  },
  {
   "cell_type": "code",
   "execution_count": 10,
   "metadata": {},
   "outputs": [
    {
     "name": "stdout",
     "output_type": "stream",
     "text": [
      "T1 state: off\n",
      "T2 state: off\n",
      "T3 state: off\n",
      "T4 state: off\n",
      "T5 state: off\n",
      "T6 state: off\n",
      "T7 state: off\n",
      "T8 state: off\n",
      "T9 state: off\n",
      "T10 state: off\n",
      "T11 state: off\n",
      "T12 state: off\n",
      "T13 state: off\n",
      "T14 state: off\n",
      "T15 state: off\n",
      "T16 state: off\n"
     ]
    }
   ],
   "source": [
    "#set thermometer state\n",
    "for i in range(1, 17):\n",
    "    ch = 'T%d' % i\n",
    "    eval(f\"t11.{ch}_state('off')\")\n",
    "\n",
    "for i in range(1, 17):\n",
    "    ch = 'T%d' % i\n",
    "    print(ch + ' state: ' + eval(f\"t11.{ch}_state()\"))"
   ]
  },
  {
   "cell_type": "code",
   "execution_count": 11,
   "metadata": {},
   "outputs": [],
   "source": [
    "#set thermometer state\n",
    "for i in range(1, 17):\n",
    "    ch = 'T%d' % i\n",
    "    eval(f\"t11.{ch}_state('on')\")"
   ]
  },
  {
   "cell_type": "code",
   "execution_count": 22,
   "metadata": {},
   "outputs": [
    {
     "data": {
      "text/plain": [
       "820.0"
      ]
     },
     "execution_count": 22,
     "metadata": {},
     "output_type": "execute_result"
    }
   ],
   "source": [
    "#get pump speed\n",
    "t11.turb1_speed()"
   ]
  },
  {
   "cell_type": "code",
   "execution_count": 29,
   "metadata": {},
   "outputs": [
    {
     "name": "stdout",
     "output_type": "stream",
     "text": [
      "on\n",
      "on\n"
     ]
    }
   ],
   "source": [
    "#get pump state\n",
    "for pump in ['TURB1', 'COMP']:\n",
    "    print(eval(f't11.{pump.lower()}_state()'))"
   ]
  },
  {
   "cell_type": "code",
   "execution_count": 33,
   "metadata": {},
   "outputs": [
    {
     "data": {
      "text/plain": [
       "0.316"
      ]
     },
     "execution_count": 33,
     "metadata": {},
     "output_type": "execute_result"
    }
   ],
   "source": [
    "# get heater range\n",
    "t11.pid_range()"
   ]
  },
  {
   "cell_type": "code",
   "execution_count": 35,
   "metadata": {},
   "outputs": [],
   "source": [
    "# set heater range\n",
    "t11.pid_range(0.316)"
   ]
  },
  {
   "cell_type": "code",
   "execution_count": 36,
   "metadata": {},
   "outputs": [
    {
     "data": {
      "text/plain": [
       "(10.0, 20.0, 0.0)"
      ]
     },
     "execution_count": 36,
     "metadata": {},
     "output_type": "execute_result"
    }
   ],
   "source": [
    "# temperature control\n",
    "t11.pid_p(), t11.pid_i(), t11.pid_d()"
   ]
  },
  {
   "cell_type": "code",
   "execution_count": 37,
   "metadata": {},
   "outputs": [
    {
     "data": {
      "text/plain": [
       "(11.0, 21.0, 0.1)"
      ]
     },
     "execution_count": 37,
     "metadata": {},
     "output_type": "execute_result"
    }
   ],
   "source": [
    "# temperature control\n",
    "t11.pid_p(11.), t11.pid_i(21.), t11.pid_d(0.1)\n",
    "t11.pid_p(), t11.pid_i(), t11.pid_d()"
   ]
  },
  {
   "cell_type": "code",
   "execution_count": 38,
   "metadata": {},
   "outputs": [
    {
     "data": {
      "text/plain": [
       "(10.0, 20.0, 0.0)"
      ]
     },
     "execution_count": 38,
     "metadata": {},
     "output_type": "execute_result"
    }
   ],
   "source": [
    "t11.pid_p(10.), t11.pid_i(20.), t11.pid_d(0.)\n",
    "t11.pid_p(), t11.pid_i(), t11.pid_d()"
   ]
  },
  {
   "cell_type": "code",
   "execution_count": 39,
   "metadata": {},
   "outputs": [
    {
     "data": {
      "text/plain": [
       "0.0"
      ]
     },
     "execution_count": 39,
     "metadata": {},
     "output_type": "execute_result"
    }
   ],
   "source": [
    "# temperature control\n",
    "t11.pid_setpoint()"
   ]
  },
  {
   "cell_type": "code",
   "execution_count": 40,
   "metadata": {},
   "outputs": [],
   "source": [
    "# temperature control\n",
    "t11.pid_setpoint(t11.pid_setpoint())"
   ]
  },
  {
   "attachments": {},
   "cell_type": "markdown",
   "metadata": {},
   "source": [
    "#### T-sweep functions test"
   ]
  },
  {
   "cell_type": "code",
   "execution_count": 3,
   "metadata": {},
   "outputs": [],
   "source": [
    "from sweepfunction import Temperature, live_configurator, _toggle_turbo, _get_best_heater_range, _set_heater_range, _set_temp_setpoint, magnet_check, _set_pid_controller, _set_active_channels, _init_sweep_state, _close"
   ]
  },
  {
   "cell_type": "code",
   "execution_count": 4,
   "metadata": {},
   "outputs": [],
   "source": [
    "# Temperature channel\n",
    "ch_t_mc = 8\n",
    "t_mc = Temperature('T_mc', t11, ch_t_mc)"
   ]
  },
  {
   "cell_type": "code",
   "execution_count": 44,
   "metadata": {},
   "outputs": [
    {
     "data": {
      "text/plain": [
       "(False, True)"
      ]
     },
     "execution_count": 44,
     "metadata": {},
     "output_type": "execute_result"
    }
   ],
   "source": [
    "# Basic functionality\n",
    "_close(t_mc(), setpoint=0.1, tolerance=0.0001), _close(t_mc(), setpoint=t_mc() + 0.01, tolerance=0.1)"
   ]
  },
  {
   "cell_type": "code",
   "execution_count": 5,
   "metadata": {},
   "outputs": [
    {
     "data": {
      "text/plain": [
       "4.21314"
      ]
     },
     "execution_count": 5,
     "metadata": {},
     "output_type": "execute_result"
    }
   ],
   "source": [
    "# Basic functionality\n",
    "ch_t_magnet = 13\n",
    "magnet_check(t11, ch_t_magnet)"
   ]
  },
  {
   "cell_type": "code",
   "execution_count": 6,
   "metadata": {},
   "outputs": [
    {
     "name": "stdout",
     "output_type": "stream",
     "text": [
      "T = 0.028999999999999998\n",
      "Heater range:  1\n",
      "T = 0.099\n",
      "Heater range:  3.16\n",
      "T = 0.299\n",
      "Heater range:  10\n",
      "T = 0.999\n",
      "Heater range:  31.6\n",
      "T = 11.999\n",
      "Heater range:  100\n",
      "T = 39.999\n",
      "Heater range:  None\n"
     ]
    }
   ],
   "source": [
    "# Heater control\n",
    "for temp in t11._heater_range_temp:\n",
    "    t = temp - 0.001\n",
    "    print(f\"T = {t}\")\n",
    "    print('Heater range: ', _get_best_heater_range(t11._heater_range_temp, t11._heater_range_curr, t))"
   ]
  },
  {
   "cell_type": "code",
   "execution_count": 9,
   "metadata": {},
   "outputs": [
    {
     "name": "stdout",
     "output_type": "stream",
     "text": [
      "0.316\n"
     ]
    },
    {
     "data": {
      "text/plain": [
       "0.316"
      ]
     },
     "execution_count": 9,
     "metadata": {},
     "output_type": "execute_result"
    }
   ],
   "source": [
    "# Heater control\n",
    "print(t11.pid_range())\n",
    "_set_heater_range(t11, t_mc, 0.316, t11.pid_range())"
   ]
  },
  {
   "cell_type": "code",
   "execution_count": 14,
   "metadata": {},
   "outputs": [
    {
     "name": "stdout",
     "output_type": "stream",
     "text": [
      "0.316\n"
     ]
    },
    {
     "data": {
      "text/plain": [
       "(1, 1.0)"
      ]
     },
     "execution_count": 14,
     "metadata": {},
     "output_type": "execute_result"
    }
   ],
   "source": [
    "# Heater control\n",
    "print(t11.pid_range())\n",
    "_set_heater_range(t11, t_mc, 1, t11.pid_range()), t11.pid_range()"
   ]
  },
  {
   "cell_type": "code",
   "execution_count": 15,
   "metadata": {},
   "outputs": [],
   "source": [
    "t11.pid_range(0.316)"
   ]
  },
  {
   "cell_type": "code",
   "execution_count": 16,
   "metadata": {},
   "outputs": [
    {
     "data": {
      "text/plain": [
       "(10.1, 20.1, 0.1)"
      ]
     },
     "execution_count": 16,
     "metadata": {},
     "output_type": "execute_result"
    }
   ],
   "source": [
    "# PID\n",
    "_set_pid_controller(t11, pid_values=(10.1, 20.1, 0.1))\n",
    "t11.pid_p(), t11.pid_i(), t11.pid_d()"
   ]
  },
  {
   "cell_type": "code",
   "execution_count": 17,
   "metadata": {},
   "outputs": [
    {
     "data": {
      "text/plain": [
       "(10.0, 20.0, 0.0)"
      ]
     },
     "execution_count": 17,
     "metadata": {},
     "output_type": "execute_result"
    }
   ],
   "source": [
    "# PID\n",
    "_set_pid_controller(t11, pid_values=(10., 20., 0.))\n",
    "t11.pid_p(), t11.pid_i(), t11.pid_d()"
   ]
  },
  {
   "cell_type": "code",
   "execution_count": 19,
   "metadata": {},
   "outputs": [],
   "source": [
    "# Temperature channels\n",
    "ch_t_mc = 8\n",
    "ch_t_magnet = 13\n",
    "_set_active_channels(t11, ch_t_mc, ch_t_magnet)"
   ]
  },
  {
   "cell_type": "code",
   "execution_count": 20,
   "metadata": {},
   "outputs": [
    {
     "name": "stdout",
     "output_type": "stream",
     "text": [
      "T1 state: off\n",
      "T2 state: off\n",
      "T3 state: off\n",
      "T4 state: off\n",
      "T5 state: off\n",
      "T6 state: off\n",
      "T7 state: off\n",
      "T8 state: on\n",
      "T9 state: off\n",
      "T10 state: off\n",
      "T11 state: off\n",
      "T12 state: off\n",
      "T13 state: on\n",
      "T14 state: off\n",
      "T15 state: off\n",
      "T16 state: off\n"
     ]
    }
   ],
   "source": [
    "#get thermometer state\n",
    "for i in range(1, 17):\n",
    "    ch = 'T%d' % i\n",
    "    print(ch + ' state: ' + eval(f\"t11.{ch}_state()\"))"
   ]
  },
  {
   "cell_type": "code",
   "execution_count": 24,
   "metadata": {},
   "outputs": [
    {
     "name": "stdout",
     "output_type": "stream",
     "text": [
      "Starting experimental run with id: 1. \n"
     ]
    }
   ],
   "source": [
    "# Turbo control\n",
    "meas = Measurement()\n",
    "meas.write_period = 5.\n",
    "time_step = Parameter('time_step', label='Time Step')\n",
    "meas.register_parameter(time_step)\n",
    "meas.register_parameter(t_mc, setpoints=(time_step, ))\n",
    "meas.register_parameter(t11.turb1_speed, setpoints=(time_step, ))\n",
    "\n",
    "best_state = 'off'\n",
    "turbo_state = t11.turb1_state()\n",
    "future_setpoint = t_mc() + 0.01\n",
    "critical_speed = 100\n",
    "\n",
    "with meas.run() as datasaver:\n",
    "\n",
    "    datasaver.add_result(\n",
    "        (time_step, 0),\n",
    "        (t_mc, t_mc()),\n",
    "        (t11.turb1_speed, t11.turb1_speed())\n",
    "    )\n",
    "\n",
    "    t11.pid_setpoint(future_setpoint)\n",
    "    #_toggle_turbo(t11, best_state, turbo_state, future_setpoint, t_mc, critical_speed)\n",
    "\n",
    "    current_time = 1\n",
    "    while not _close(t_mc(), future_setpoint):\n",
    "        \n",
    "        datasaver.add_result(\n",
    "            (time_step, current_time),\n",
    "            (t_mc, t_mc()),\n",
    "            (t11.turb1_speed, t11.turb1_speed())\n",
    "        )\n",
    "        sleep(1)\n",
    "        current_time += 1"
   ]
  },
  {
   "cell_type": "code",
   "execution_count": 27,
   "metadata": {},
   "outputs": [
    {
     "data": {
      "text/plain": [
       "([<AxesSubplot: title={'center': 'Run #1, Experiment Sweepfunctions (0)'}, xlabel='Time Step', ylabel='T_mc (mK)'>,\n",
       "  <AxesSubplot: title={'center': 'Run #1, Experiment Sweepfunctions (0)'}, xlabel='Time Step', ylabel='Turbo 1 speed (Hz)'>],\n",
       " [None, None])"
      ]
     },
     "execution_count": 27,
     "metadata": {},
     "output_type": "execute_result"
    },
    {
     "data": {
      "image/png": "[encoded data removed]",
      "text/plain": [
       "<Figure size 640x480 with 1 Axes>"
      ]
     },
     "metadata": {},
     "output_type": "display_data"
    },
    {
     "data": {
      "image/png": "[encoded data removed]",
      "text/plain": [
       "<Figure size 640x480 with 1 Axes>"
      ]
     },
     "metadata": {},
     "output_type": "display_data"
    }
   ],
   "source": [
    "plot_by_id(1)"
   ]
  },
  {
   "cell_type": "code",
   "execution_count": 7,
   "metadata": {},
   "outputs": [],
   "source": [
    "t11.pid_setpoint(0.55)"
   ]
  },
  {
   "cell_type": "code",
   "execution_count": 13,
   "metadata": {},
   "outputs": [
    {
     "data": {
      "text/plain": [
       "0.553611"
      ]
     },
     "execution_count": 13,
     "metadata": {},
     "output_type": "execute_result"
    }
   ],
   "source": [
    "t_mc()"
   ]
  },
  {
   "cell_type": "code",
   "execution_count": 14,
   "metadata": {},
   "outputs": [
    {
     "name": "stdout",
     "output_type": "stream",
     "text": [
      "Starting experimental run with id: 2. \n"
     ]
    },
    {
     "name": "stderr",
     "output_type": "stream",
     "text": [
      "2023-07-31 12:02:56,251 - Temperature Sweep                               - INFO - Turbo 1 has been switched offat T = 0.550975 K\n"
     ]
    }
   ],
   "source": [
    "# Turbo control\n",
    "meas = Measurement()\n",
    "meas.write_period = 5.\n",
    "time_step = Parameter('time_step', label='Time Step')\n",
    "meas.register_parameter(time_step)\n",
    "meas.register_parameter(t_mc, setpoints=(time_step, ))\n",
    "meas.register_parameter(t11.turb1_speed, setpoints=(time_step, ))\n",
    "\n",
    "best_state = 'off'\n",
    "turbo_state = t11.turb1_state()\n",
    "future_setpoint = t_mc() + 0.1\n",
    "critical_speed = 100\n",
    "\n",
    "with meas.run() as datasaver:\n",
    "\n",
    "    datasaver.add_result(\n",
    "        (time_step, 0),\n",
    "        (t_mc, t_mc()),\n",
    "        (t11.turb1_speed, t11.turb1_speed())\n",
    "    )\n",
    "\n",
    "    t11.pid_setpoint(future_setpoint)\n",
    "    _toggle_turbo(t11, best_state, turbo_state, future_setpoint, t_mc, critical_speed)\n",
    "\n",
    "    current_time = 1\n",
    "    while not _close(t_mc(), future_setpoint, tolerance=0.0005):\n",
    "        \n",
    "        datasaver.add_result(\n",
    "            (time_step, current_time),\n",
    "            (t_mc, t_mc()),\n",
    "            (t11.turb1_speed, t11.turb1_speed())\n",
    "        )\n",
    "        sleep(1)\n",
    "        current_time += 1"
   ]
  },
  {
   "cell_type": "code",
   "execution_count": 15,
   "metadata": {},
   "outputs": [
    {
     "data": {
      "text/plain": [
       "([<AxesSubplot: title={'center': 'Run #2, Experiment Sweepfunctions (0)'}, xlabel='Time Step', ylabel='T_mc (mK)'>,\n",
       "  <AxesSubplot: title={'center': 'Run #2, Experiment Sweepfunctions (0)'}, xlabel='Time Step', ylabel='Turbo 1 speed (Hz)'>],\n",
       " [None, None])"
      ]
     },
     "execution_count": 15,
     "metadata": {},
     "output_type": "execute_result"
    },
    {
     "data": {
      "image/png": "[encoded data removed]",
      "text/plain": [
       "<Figure size 640x480 with 1 Axes>"
      ]
     },
     "metadata": {},
     "output_type": "display_data"
    },
    {
     "data": {
      "image/png": "[encoded data removed]",
      "text/plain": [
       "<Figure size 640x480 with 1 Axes>"
      ]
     },
     "metadata": {},
     "output_type": "display_data"
    }
   ],
   "source": [
    "plot_by_id(2)"
   ]
  },
  {
   "cell_type": "code",
   "execution_count": 5,
   "metadata": {},
   "outputs": [
    {
     "name": "stdout",
     "output_type": "stream",
     "text": [
      "Starting experimental run with id: 4. \n"
     ]
    },
    {
     "name": "stderr",
     "output_type": "stream",
     "text": [
      "2023-07-31 12:12:32,106 - Temperature Sweep                               - INFO - Turbo 1 has been switched on at T = 0.616936 K\n"
     ]
    }
   ],
   "source": [
    "# Turbo control\n",
    "meas = Measurement()\n",
    "meas.write_period = 5.\n",
    "time_step = Parameter('time_step', label='Time Step')\n",
    "meas.register_parameter(time_step)\n",
    "meas.register_parameter(t_mc, setpoints=(time_step, ))\n",
    "meas.register_parameter(t11.turb1_speed, setpoints=(time_step, ))\n",
    "\n",
    "best_state = 'on'\n",
    "turbo_state = t11.turb1_state()\n",
    "future_setpoint = t_mc() - 0.1\n",
    "critical_speed = 100\n",
    "\n",
    "with meas.run() as datasaver:\n",
    "\n",
    "    datasaver.add_result(\n",
    "        (time_step, 0),\n",
    "        (t_mc, t_mc()),\n",
    "        (t11.turb1_speed, t11.turb1_speed())\n",
    "    )\n",
    "\n",
    "    t11.pid_setpoint(future_setpoint)\n",
    "    _toggle_turbo(t11, best_state, turbo_state, future_setpoint, t_mc, critical_speed)\n",
    "\n",
    "    current_time = 1\n",
    "    while not _close(t_mc(), future_setpoint):\n",
    "        \n",
    "        datasaver.add_result(\n",
    "            (time_step, current_time),\n",
    "            (t_mc, t_mc()),\n",
    "            (t11.turb1_speed, t11.turb1_speed())\n",
    "        )\n",
    "        sleep(1)\n",
    "        current_time += 1"
   ]
  },
  {
   "cell_type": "code",
   "execution_count": 6,
   "metadata": {},
   "outputs": [
    {
     "data": {
      "text/plain": [
       "([<AxesSubplot: title={'center': 'Run #4, Experiment Sweepfunctions (0)'}, xlabel='Time Step', ylabel='T_mc (mK)'>,\n",
       "  <AxesSubplot: title={'center': 'Run #4, Experiment Sweepfunctions (0)'}, xlabel='Time Step', ylabel='Turbo 1 speed (Hz)'>],\n",
       " [None, None])"
      ]
     },
     "execution_count": 6,
     "metadata": {},
     "output_type": "execute_result"
    },
    {
     "data": {
      "image/png": "[encoded data removed]",
      "text/plain": [
       "<Figure size 640x480 with 1 Axes>"
      ]
     },
     "metadata": {},
     "output_type": "display_data"
    },
    {
     "data": {
      "image/png": "[encoded data removed]",
      "text/plain": [
       "<Figure size 640x480 with 1 Axes>"
      ]
     },
     "metadata": {},
     "output_type": "display_data"
    }
   ],
   "source": [
    "plot_by_id(4)"
   ]
  },
  {
   "cell_type": "code",
   "execution_count": 7,
   "metadata": {},
   "outputs": [],
   "source": [
    "# cryostat control\n",
    "t11.pid_setpoint(0.29)"
   ]
  },
  {
   "cell_type": "code",
   "execution_count": 12,
   "metadata": {},
   "outputs": [
    {
     "data": {
      "text/plain": [
       "31.6"
      ]
     },
     "execution_count": 12,
     "metadata": {},
     "output_type": "execute_result"
    }
   ],
   "source": [
    "_get_best_heater_range(t11._heater_range_temp, t11._heater_range_curr, 0.31)"
   ]
  },
  {
   "cell_type": "code",
   "execution_count": 9,
   "metadata": {},
   "outputs": [
    {
     "name": "stdout",
     "output_type": "stream",
     "text": [
      "on 10.0\n",
      "on 31.6\n"
     ]
    }
   ],
   "source": [
    "# cryostat control\n",
    "print(t11.turb1_state(), t11.pid_range())\n",
    "future_setpoint = 0.31\n",
    "t11.pid_setpoint(future_setpoint)\n",
    "live_configurator(t11, t_mc, future_setpoint, t11.pid_range(), t11.turb1_state())\n",
    "print(t11.turb1_state(), t11.pid_range())"
   ]
  },
  {
   "cell_type": "code",
   "execution_count": 10,
   "metadata": {},
   "outputs": [],
   "source": [
    "# cryostat control\n",
    "t11.pid_setpoint(0.75)"
   ]
  },
  {
   "cell_type": "code",
   "execution_count": 5,
   "metadata": {},
   "outputs": [
    {
     "name": "stdout",
     "output_type": "stream",
     "text": [
      "on 31.6\n"
     ]
    },
    {
     "name": "stderr",
     "output_type": "stream",
     "text": [
      "2023-07-31 13:34:31,870 - Temperature Sweep                               - INFO - Turbo 1 has been switched off at T = 0.791326 K\n"
     ]
    },
    {
     "name": "stdout",
     "output_type": "stream",
     "text": [
      "off 31.6\n"
     ]
    }
   ],
   "source": [
    "# cryostat control\n",
    "print(t11.turb1_state(), t11.pid_range())\n",
    "future_setpoint = 0.79\n",
    "t11.pid_setpoint(future_setpoint)\n",
    "live_configurator(t11, t_mc, future_setpoint, t11.pid_range(), t11.turb1_state())\n",
    "print(t11.turb1_state(), t11.pid_range())"
   ]
  },
  {
   "cell_type": "code",
   "execution_count": 6,
   "metadata": {},
   "outputs": [
    {
     "name": "stderr",
     "output_type": "stream",
     "text": [
      "2023-07-31 13:44:41,615 - Temperature Sweep                               - INFO - Turbo 1 has been switched on at T = 0.700358 K\n",
      "2023-07-31 13:51:56,215 - Temperature Sweep                               - INFO - Heater range changed to 10 mA at T = 0.232905 K.\n",
      "2023-07-31 13:56:17,021 - Temperature Sweep                               - INFO - Heater range changed to 3.16 mA at T = 0.0895501 K.\n"
     ]
    },
    {
     "data": {
      "text/plain": [
       "('on', 3.16)"
      ]
     },
     "execution_count": 6,
     "metadata": {},
     "output_type": "execute_result"
    }
   ],
   "source": [
    "# Temperature control\n",
    "future_setpoint = 0.09\n",
    "_set_temp_setpoint(\n",
    "    t11, \n",
    "    t_mc, \n",
    "    future_setpoint, \n",
    "    magnet_active=True, \n",
    "    t_magnet_ch=13, \n",
    "    turbo_state=t11.turb1_state(), \n",
    "    heater_range=t11.pid_range(),\n",
    ")"
   ]
  },
  {
   "cell_type": "code",
   "execution_count": 5,
   "metadata": {},
   "outputs": [
    {
     "name": "stdout",
     "output_type": "stream",
     "text": [
      "8\n"
     ]
    },
    {
     "data": {
      "text/plain": [
       "('on', 3.16)"
      ]
     },
     "execution_count": 5,
     "metadata": {},
     "output_type": "execute_result"
    }
   ],
   "source": [
    "# cryostate control\n",
    "_init_sweep_state(t11, ch_t_mc, 13, False, pid=(20., 10., 0.))"
   ]
  },
  {
   "cell_type": "code",
   "execution_count": 6,
   "metadata": {},
   "outputs": [
    {
     "name": "stderr",
     "output_type": "stream",
     "text": [
      "2023-07-31 14:11:55,433 - Temperature Sweep                               - INFO - Turbo 1 has been switched off at T = 0.800713 K\n"
     ]
    },
    {
     "data": {
      "text/plain": [
       "('off', 31.6)"
      ]
     },
     "execution_count": 6,
     "metadata": {},
     "output_type": "execute_result"
    }
   ],
   "source": [
    "# Temperature control\n",
    "future_setpoint = 0.8\n",
    "_set_temp_setpoint(\n",
    "    t11, \n",
    "    t_mc, \n",
    "    future_setpoint, \n",
    "    magnet_active=False, \n",
    "    t_magnet_ch=13, \n",
    "    turbo_state=t11.turb1_state(), \n",
    "    heater_range=t11.pid_range(),\n",
    ")"
   ]
  },
  {
   "attachments": {},
   "cell_type": "markdown",
   "metadata": {},
   "source": [
    "#### Temperature sweeps"
   ]
  },
  {
   "cell_type": "code",
   "execution_count": 4,
   "metadata": {},
   "outputs": [],
   "source": [
    "from sweepfunction import T1dMeasurement, T2dMeasurement"
   ]
  },
  {
   "cell_type": "code",
   "execution_count": 9,
   "metadata": {},
   "outputs": [
    {
     "data": {
      "text/plain": [
       "('on', 10)"
      ]
     },
     "execution_count": 9,
     "metadata": {},
     "output_type": "execute_result"
    }
   ],
   "source": [
    "# Temperature control\n",
    "future_setpoint = 0.25\n",
    "_set_temp_setpoint(\n",
    "    t11, \n",
    "    t_mc, \n",
    "    future_setpoint, \n",
    "    magnet_active=True, \n",
    "    t_magnet_ch=13, \n",
    "    turbo_state=t11.turb1_state(), \n",
    "    heater_range=t11.pid_range(),\n",
    ")"
   ]
  },
  {
   "cell_type": "code",
   "execution_count": 5,
   "metadata": {},
   "outputs": [],
   "source": [
    "param_meas = [lockin_2.A2_XX1_X, lockin_2.A2_XX1_P]"
   ]
  },
  {
   "cell_type": "code",
   "execution_count": 8,
   "metadata": {},
   "outputs": [
    {
     "name": "stdout",
     "output_type": "stream",
     "text": [
      "1.0175799999999999e-06\n",
      "-1.764\n"
     ]
    }
   ],
   "source": [
    "for param in param_meas:\n",
    "    print(param())"
   ]
  },
  {
   "cell_type": "code",
   "execution_count": 12,
   "metadata": {},
   "outputs": [
    {
     "data": {
      "text/plain": [
       "0.020731707317073172"
      ]
     },
     "execution_count": 12,
     "metadata": {},
     "output_type": "execute_result"
    }
   ],
   "source": [
    "(1.1-0.25)/41"
   ]
  },
  {
   "cell_type": "code",
   "execution_count": 10,
   "metadata": {},
   "outputs": [],
   "source": [
    "_set_pid_controller(t11, (20., 10., 0.))"
   ]
  },
  {
   "cell_type": "code",
   "execution_count": 11,
   "metadata": {},
   "outputs": [
    {
     "name": "stdout",
     "output_type": "stream",
     "text": [
      "Starting experimental run with id: 7. \n"
     ]
    },
    {
     "name": "stderr",
     "output_type": "stream",
     "text": [
      "An exception occured in measurement with guid: aaaaaaaa-0c00-0016-0000-0189abf78725;\n",
      "Traceback:\n",
      "Traceback (most recent call last):\n",
      "  File \"c:\\Users\\Triton11acq\\Documents\\TritonDriver\\Triton\\sweepfunction.py\", line 89, in T1dMeasurement\n",
      "    sleep(0.5)\n",
      "KeyboardInterrupt\n",
      "\n"
     ]
    },
    {
     "ename": "KeyboardInterrupt",
     "evalue": "",
     "output_type": "error",
     "traceback": [
      "\u001b[1;31m---------------------------------------------------------------------------\u001b[0m",
      "\u001b[1;31mKeyboardInterrupt\u001b[0m                         Traceback (most recent call last)",
      "Cell \u001b[1;32mIn[11], line 2\u001b[0m\n\u001b[0;32m      1\u001b[0m \u001b[39m# test sweeping up through turbo and heater transition\u001b[39;00m\n\u001b[1;32m----> 2\u001b[0m T1dMeasurement(\n\u001b[0;32m      3\u001b[0m     t11,\n\u001b[0;32m      4\u001b[0m     \u001b[39m0.25\u001b[39;49m,\n\u001b[0;32m      5\u001b[0m     \u001b[39m1.1\u001b[39;49m,\n\u001b[0;32m      6\u001b[0m     \u001b[39m41\u001b[39;49m,\n\u001b[0;32m      7\u001b[0m     \u001b[39m1\u001b[39;49m,\n\u001b[0;32m      8\u001b[0m     \u001b[39m*\u001b[39;49mparam_meas,\n\u001b[0;32m      9\u001b[0m     pid_values\u001b[39m=\u001b[39;49m(\u001b[39m10.\u001b[39;49m, \u001b[39m20.\u001b[39;49m, \u001b[39m0.\u001b[39;49m),\n\u001b[0;32m     10\u001b[0m     t_mc_ch\u001b[39m=\u001b[39;49m\u001b[39m8\u001b[39;49m,\n\u001b[0;32m     11\u001b[0m     t_magnet_ch\u001b[39m=\u001b[39;49m\u001b[39m13\u001b[39;49m,\n\u001b[0;32m     12\u001b[0m     magnet_active\u001b[39m=\u001b[39;49m\u001b[39mFalse\u001b[39;49;00m,\n\u001b[0;32m     13\u001b[0m     write_period\u001b[39m=\u001b[39;49m\u001b[39m5\u001b[39;49m,\n\u001b[0;32m     14\u001b[0m )\n",
      "File \u001b[1;32mc:\\Users\\Triton11acq\\Documents\\TritonDriver\\Triton\\sweepfunction.py:89\u001b[0m, in \u001b[0;36mT1dMeasurement\u001b[1;34m(fridge, start, end, points, wait_time, pid_values, t_mc_ch, t_magnet_ch, magnet_active, write_period, *param_meas)\u001b[0m\n\u001b[0;32m     78\u001b[0m turbo_state, heater_range \u001b[39m=\u001b[39m _set_temp_setpoint(\n\u001b[0;32m     79\u001b[0m                                             fridge, \n\u001b[0;32m     80\u001b[0m                                             sample_temp,\n\u001b[1;32m   (...)\u001b[0m\n\u001b[0;32m     85\u001b[0m                                             heater_range,\n\u001b[0;32m     86\u001b[0m )\n\u001b[0;32m     88\u001b[0m \u001b[39mwhile\u001b[39;00m \u001b[39mnot\u001b[39;00m _close(sample_temp(), setpoint):\n\u001b[1;32m---> 89\u001b[0m     sleep(\u001b[39m0.5\u001b[39;49m)\n\u001b[0;32m     91\u001b[0m current_temperature \u001b[39m=\u001b[39m sample_temp()\n\u001b[0;32m     92\u001b[0m logger\u001b[39m.\u001b[39mdebug(\u001b[39mf\u001b[39m\u001b[39m'\u001b[39m\u001b[39mContinuing to measurement at \u001b[39m\u001b[39m{\u001b[39;00mcurrent_temperature\u001b[39m}\u001b[39;00m\u001b[39m K\u001b[39m\u001b[39m'\u001b[39m)\n",
      "\u001b[1;31mKeyboardInterrupt\u001b[0m: "
     ]
    }
   ],
   "source": [
    "# test sweeping up through turbo and heater transition\n",
    "T1dMeasurement(\n",
    "    t11,\n",
    "    0.25,\n",
    "    1.1,\n",
    "    41,\n",
    "    1,\n",
    "    *param_meas,\n",
    "    pid_values=(10., 20., 0.),\n",
    "    t_mc_ch=8,\n",
    "    t_magnet_ch=13,\n",
    "    magnet_active=False,\n",
    "    write_period=5,\n",
    ")"
   ]
  },
  {
   "cell_type": "code",
   "execution_count": null,
   "metadata": {},
   "outputs": [],
   "source": [
    "plot_by_id(7)"
   ]
  },
  {
   "cell_type": "code",
   "execution_count": null,
   "metadata": {},
   "outputs": [],
   "source": [
    "import numpy as np\n",
    "from qcodes.dataset.data_set import load_by_id"
   ]
  },
  {
   "cell_type": "code",
   "execution_count": null,
   "metadata": {},
   "outputs": [],
   "source": [
    "data1 = load_by_id(7)"
   ]
  },
  {
   "cell_type": "code",
   "execution_count": null,
   "metadata": {},
   "outputs": [],
   "source": [
    "np.linspace(0.25, 1.1, 41)\n",
    "data1."
   ]
  },
  {
   "cell_type": "code",
   "execution_count": null,
   "metadata": {},
   "outputs": [],
   "source": [
    "# test sweeping down through turbo and heater transition\n",
    "T1dMeasurement(\n",
    "    t11,\n",
    "    1.1,\n",
    "    0.7,\n",
    "    21,\n",
    "    1,\n",
    "    *param_meas,\n",
    "    pid_values=(10., 20., 0.),\n",
    "    t_mc_ch=8,\n",
    "    t_magnet_ch=13,\n",
    "    magnet_active=False,\n",
    "    write_period=5,\n",
    ")"
   ]
  },
  {
   "cell_type": "code",
   "execution_count": null,
   "metadata": {},
   "outputs": [],
   "source": [
    "plot_by_id()"
   ]
  },
  {
   "cell_type": "code",
   "execution_count": null,
   "metadata": {},
   "outputs": [],
   "source": [
    "# test sweeping up through turbo and heater transition; 2D scan\n",
    "T2dMeasurement(\n",
    "    t11,\n",
    "    0.7,\n",
    "    1.1,\n",
    "    21,\n",
    "    1,\n",
    "    keith.Bperp,\n",
    "    0,\n",
    "    10e-3,\n",
    "    21,\n",
    "    0.1,\n",
    "    *param_meas,\n",
    "    pid_values=(10., 20., 0.),\n",
    "    t_mc_ch=8,\n",
    "    t_magnet_ch=13,\n",
    "    magnet_active=False,\n",
    "    write_period=5,\n",
    ")"
   ]
  },
  {
   "cell_type": "code",
   "execution_count": null,
   "metadata": {},
   "outputs": [],
   "source": [
    "keith.Bperp()"
   ]
  },
  {
   "cell_type": "code",
   "execution_count": null,
   "metadata": {},
   "outputs": [],
   "source": [
    "# test sweeping down through turbo and heater transition; 2D scan\n",
    "T2dMeasurement(\n",
    "    t11,\n",
    "    1.1,\n",
    "    0.7,\n",
    "    21,\n",
    "    1,\n",
    "    keith.Bperp,\n",
    "    0,\n",
    "    10e-3,\n",
    "    21,\n",
    "    0.1,\n",
    "    *param_meas,\n",
    "    pid_values=(10., 20., 0.),\n",
    "    t_mc_ch=8,\n",
    "    t_magnet_ch=13,\n",
    "    magnet_active=False,\n",
    "    write_period=5,\n",
    ")"
   ]
  }
 ],
 "metadata": {
  "kernelspec": {
   "display_name": "AppStat2",
   "language": "python",
   "name": "python3"
  },
  "language_info": {
   "codemirror_mode": {
    "name": "ipython",
    "version": 3
   },
   "file_extension": ".py",
   "mimetype": "text/x-python",
   "name": "python",
   "nbconvert_exporter": "python",
   "pygments_lexer": "ipython3",
   "version": "3.9.15"
  },
  "orig_nbformat": 4
 },
 "nbformat": 4,
 "nbformat_minor": 2
}
